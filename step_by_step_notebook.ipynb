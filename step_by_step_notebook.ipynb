{
 "cells": [
  {
   "cell_type": "code",
   "execution_count": 7,
   "id": "fa915f94",
   "metadata": {},
   "outputs": [],
   "source": [
    "import pandas as pd"
   ]
  },
  {
   "cell_type": "code",
   "execution_count": 8,
   "id": "da500376",
   "metadata": {},
   "outputs": [],
   "source": [
    "# allow pandas to print all columns so we can see outputs\n",
    "pd.set_option('display.max_rows', None)\n",
    "pd.set_option('display.max_columns', None)\n",
    "pd.set_option('display.width', None)\n",
    "pd.set_option('display.max_colwidth', None)"
   ]
  },
  {
   "cell_type": "code",
   "execution_count": 9,
   "id": "d26cfff4",
   "metadata": {},
   "outputs": [],
   "source": [
    "# load source and target dataframes\n",
    "source_df = pd.read_csv('college_stats_2022.csv')\n",
    "target_df = pd.read_csv('college_stats_annual.csv')"
   ]
  },
  {
   "cell_type": "code",
   "execution_count": 10,
   "id": "7e0e38cb",
   "metadata": {},
   "outputs": [],
   "source": [
    "source_df = source_df.drop(['playerId'], axis=1)  # no need for their key"
   ]
  },
  {
   "cell_type": "code",
   "execution_count": 11,
   "id": "fd0ef3f7",
   "metadata": {},
   "outputs": [],
   "source": [
    "# merge the category and stat type into a new column and drop original columns\n",
    "source_df['new_stat'] = source_df['category'] + '_' + source_df['statType']\n",
    "source_df = source_df.drop(['category', 'statType'], axis=1)  # drop unneeded data"
   ]
  },
  {
   "cell_type": "code",
   "execution_count": 12,
   "id": "ac51d793",
   "metadata": {},
   "outputs": [],
   "source": [
    "''' \n",
    "    this is a bit hacky. pivot_table doesn't do well with multiple index columns so I'll combine player and college\n",
    "    using * as a deliminator and then split them out later\n",
    "'''\n",
    "\n",
    "source_df['player_college'] = source_df['player'] + '*' + source_df['college']"
   ]
  },
  {
   "cell_type": "code",
   "execution_count": 13,
   "id": "6128052c",
   "metadata": {},
   "outputs": [],
   "source": [
    "# pivot the data to be wide\n",
    "source_df = source_df.pivot_table(index=['player_college'], columns=['new_stat'], values=['stat'], aggfunc='first')\n",
    "\n",
    "# this resets the multi index so that it's totally flat again\n",
    "source_df.columns = source_df.columns.droplevel(0)\n",
    "source_df.reset_index(inplace=True)"
   ]
  },
  {
   "cell_type": "code",
   "execution_count": 14,
   "id": "164db8bb",
   "metadata": {},
   "outputs": [],
   "source": [
    "# split player and college back out\n",
    "source_df['player'] = source_df['player_college'].str.split('*', expand=True)[0]\n",
    "source_df['college'] = source_df['player_college'].str.split('*', expand=True)[1]\n",
    "source_df = source_df.drop('player_college', axis=1)  # drop the combined data"
   ]
  },
  {
   "cell_type": "code",
   "execution_count": 15,
   "id": "bb80cea3",
   "metadata": {},
   "outputs": [
    {
     "name": "stdout",
     "output_type": "stream",
     "text": [
      "Index(['defensive_PD', 'defensive_QB HUR', 'defensive_SACKS', 'defensive_SOLO',\n",
      "       'defensive_TD', 'defensive_TFL', 'defensive_TOT', 'fumbles_FUM',\n",
      "       'fumbles_LOST', 'fumbles_REC', 'interceptions_AVG', 'interceptions_INT',\n",
      "       'interceptions_TD', 'interceptions_YDS', 'kickReturns_AVG',\n",
      "       'kickReturns_LONG', 'kickReturns_NO', 'kickReturns_TD',\n",
      "       'kickReturns_YDS', 'kicking_FGA', 'kicking_FGM', 'kicking_LONG',\n",
      "       'kicking_PCT', 'kicking_PTS', 'kicking_XPA', 'kicking_XPM',\n",
      "       'passing_ATT', 'passing_COMPLETIONS', 'passing_INT', 'passing_PCT',\n",
      "       'passing_TD', 'passing_YDS', 'passing_YPA', 'puntReturns_AVG',\n",
      "       'puntReturns_LONG', 'puntReturns_NO', 'puntReturns_TD',\n",
      "       'puntReturns_YDS', 'punting_In 20', 'punting_LONG', 'punting_NO',\n",
      "       'punting_TB', 'punting_YDS', 'punting_YPP', 'receiving_LONG',\n",
      "       'receiving_REC', 'receiving_TD', 'receiving_YDS', 'receiving_YPR',\n",
      "       'rushing_CAR', 'rushing_LONG', 'rushing_TD', 'rushing_YDS',\n",
      "       'rushing_YPC', 'player', 'college'],\n",
      "      dtype='object', name='new_stat')\n",
      "new_stat  defensive_PD  defensive_QB HUR  defensive_SACKS  defensive_SOLO  \\\n",
      "8450               NaN               NaN              NaN             NaN   \n",
      "8451               1.0               0.0              0.0             3.0   \n",
      "8452              10.0               1.0              1.0            34.0   \n",
      "8453               0.0               1.0              0.5             2.0   \n",
      "8454               0.0               0.0              0.0             0.0   \n",
      "\n",
      "new_stat  defensive_TD  defensive_TFL  defensive_TOT  fumbles_FUM  \\\n",
      "8450               NaN            NaN            NaN          NaN   \n",
      "8451               0.0            1.5            6.0          NaN   \n",
      "8452               0.0            2.0           50.0          NaN   \n",
      "8453               0.0            1.0            6.0          NaN   \n",
      "8454               0.0            0.5            1.0          NaN   \n",
      "\n",
      "new_stat  fumbles_LOST  fumbles_REC  interceptions_AVG  interceptions_INT  \\\n",
      "8450               NaN          NaN                NaN                NaN   \n",
      "8451               NaN          NaN                NaN                NaN   \n",
      "8452               NaN          NaN                1.5                2.0   \n",
      "8453               NaN          NaN                NaN                NaN   \n",
      "8454               NaN          NaN                NaN                NaN   \n",
      "\n",
      "new_stat  interceptions_TD  interceptions_YDS  kickReturns_AVG  \\\n",
      "8450                   NaN                NaN              NaN   \n",
      "8451                   NaN                NaN              NaN   \n",
      "8452                   0.0                3.0              NaN   \n",
      "8453                   NaN                NaN              NaN   \n",
      "8454                   NaN                NaN              NaN   \n",
      "\n",
      "new_stat  kickReturns_LONG  kickReturns_NO  kickReturns_TD  kickReturns_YDS  \\\n",
      "8450                   NaN             NaN             NaN              NaN   \n",
      "8451                   NaN             NaN             NaN              NaN   \n",
      "8452                   NaN             NaN             NaN              NaN   \n",
      "8453                   NaN             NaN             NaN              NaN   \n",
      "8454                   NaN             NaN             NaN              NaN   \n",
      "\n",
      "new_stat  kicking_FGA  kicking_FGM  kicking_LONG  kicking_PCT  kicking_PTS  \\\n",
      "8450              NaN          NaN           NaN          NaN          NaN   \n",
      "8451              NaN          NaN           NaN          NaN          NaN   \n",
      "8452              NaN          NaN           NaN          NaN          NaN   \n",
      "8453              NaN          NaN           NaN          NaN          NaN   \n",
      "8454              NaN          NaN           NaN          NaN          NaN   \n",
      "\n",
      "new_stat  kicking_XPA  kicking_XPM  passing_ATT  passing_COMPLETIONS  \\\n",
      "8450              NaN          NaN          NaN                  NaN   \n",
      "8451              NaN          NaN          NaN                  NaN   \n",
      "8452              NaN          NaN          NaN                  NaN   \n",
      "8453              NaN          NaN          NaN                  NaN   \n",
      "8454              NaN          NaN          NaN                  NaN   \n",
      "\n",
      "new_stat  passing_INT  passing_PCT  passing_TD  passing_YDS  passing_YPA  \\\n",
      "8450              NaN          NaN         NaN          NaN          NaN   \n",
      "8451              NaN          NaN         NaN          NaN          NaN   \n",
      "8452              NaN          NaN         NaN          NaN          NaN   \n",
      "8453              NaN          NaN         NaN          NaN          NaN   \n",
      "8454              NaN          NaN         NaN          NaN          NaN   \n",
      "\n",
      "new_stat  puntReturns_AVG  puntReturns_LONG  puntReturns_NO  puntReturns_TD  \\\n",
      "8450                  NaN               NaN             NaN             NaN   \n",
      "8451                  NaN               NaN             NaN             NaN   \n",
      "8452                  NaN               NaN             NaN             NaN   \n",
      "8453                  NaN               NaN             NaN             NaN   \n",
      "8454                  NaN               NaN             NaN             NaN   \n",
      "\n",
      "new_stat  puntReturns_YDS  punting_In 20  punting_LONG  punting_NO  \\\n",
      "8450                  NaN            NaN           NaN         NaN   \n",
      "8451                  NaN            NaN           NaN         NaN   \n",
      "8452                  NaN            NaN           NaN         NaN   \n",
      "8453                  NaN            NaN           NaN         NaN   \n",
      "8454                  NaN            NaN           NaN         NaN   \n",
      "\n",
      "new_stat  punting_TB  punting_YDS  punting_YPP  receiving_LONG  receiving_REC  \\\n",
      "8450             NaN          NaN          NaN            55.0           11.0   \n",
      "8451             NaN          NaN          NaN             NaN            NaN   \n",
      "8452             NaN          NaN          NaN             NaN            NaN   \n",
      "8453             NaN          NaN          NaN             NaN            NaN   \n",
      "8454             NaN          NaN          NaN             NaN            NaN   \n",
      "\n",
      "new_stat  receiving_TD  receiving_YDS  receiving_YPR  rushing_CAR  \\\n",
      "8450               2.0          223.0           20.3          NaN   \n",
      "8451               NaN            NaN            NaN          NaN   \n",
      "8452               NaN            NaN            NaN          NaN   \n",
      "8453               NaN            NaN            NaN          NaN   \n",
      "8454               NaN            NaN            NaN          NaN   \n",
      "\n",
      "new_stat  rushing_LONG  rushing_TD  rushing_YDS  rushing_YPC  \\\n",
      "8450               NaN         NaN          NaN          NaN   \n",
      "8451               NaN         NaN          NaN          NaN   \n",
      "8452               NaN         NaN          NaN          NaN   \n",
      "8453               NaN         NaN          NaN          NaN   \n",
      "8454               NaN         NaN          NaN          NaN   \n",
      "\n",
      "new_stat            player           college  \n",
      "8450         Zyell Griffin              UNLV  \n",
      "8451      Zykeivous Walker            Auburn  \n",
      "8452          Zyon Gilbert  Florida Atlantic  \n",
      "8453            Zyon McGee  Georgia Southern  \n",
      "8454           Zyon Walker     South Alabama  \n"
     ]
    }
   ],
   "source": [
    "# check the output\n",
    "print(source_df.columns)\n",
    "print(source_df.tail())"
   ]
  },
  {
   "cell_type": "code",
   "execution_count": 16,
   "id": "ba6eb915",
   "metadata": {},
   "outputs": [],
   "source": [
    "# drop unneeded columns\n",
    "dropped = pd.read_excel('column_mapping.xlsx', sheet_name='dropped', header=None)\n",
    "dropped = list(dropped[0])\n",
    "source_df = source_df.drop(dropped, axis=1)"
   ]
  },
  {
   "cell_type": "code",
   "execution_count": 17,
   "id": "944a8160",
   "metadata": {},
   "outputs": [],
   "source": [
    "# rename map columns\n",
    "one_to_one = pd.read_excel('column_mapping.xlsx', sheet_name='one_to_one')\n",
    "one_to_one_mapping = dict(zip(one_to_one['old'], one_to_one['new']))\n",
    "source_df = source_df.rename(columns=one_to_one_mapping)"
   ]
  },
  {
   "cell_type": "code",
   "execution_count": 18,
   "id": "ddc2fc9a",
   "metadata": {},
   "outputs": [],
   "source": [
    "# copy columns\n",
    "copied = pd.read_excel('column_mapping.xlsx', sheet_name='copy')"
   ]
  },
  {
   "cell_type": "code",
   "execution_count": 19,
   "id": "e4e9c4f8",
   "metadata": {},
   "outputs": [],
   "source": [
    "# this for loop iterates through the copied columns and assigns a name\n",
    "for idx, row in copied.iterrows():\n",
    "    source_df[row['copy']] = source_df[row['old']]"
   ]
  },
  {
   "cell_type": "code",
   "execution_count": 20,
   "id": "14dc87e2",
   "metadata": {},
   "outputs": [],
   "source": [
    "# calculate columns\n",
    "source_df['defense_ast_tackles'] = source_df['defense_tackles'] - source_df['defense_solo_tackes']\n",
    "source_df['passing_comp_pct'] = source_df['passing_completions'] / source_df['passing_attempts']\n",
    "source_df['rushing_scrim_tds'] = source_df['receiving_rec_td'] + source_df['rushing_rush_td']\n",
    "source_df['rushing_scrim_yds'] = source_df['receiving_rec_yards'] + source_df['rushing_rush_yds']\n",
    "source_df['receiving_scrim_tds'] = source_df['receiving_rec_td'] + source_df['rushing_rush_td']\n",
    "source_df['receiving_scrim_yds'] = source_df['receiving_rec_yards'] + source_df['receiving_rush_yds']"
   ]
  },
  {
   "cell_type": "code",
   "execution_count": 21,
   "id": "bf077f8a",
   "metadata": {},
   "outputs": [],
   "source": [
    "# assign data\n",
    "assigned = pd.read_excel('column_mapping.xlsx', sheet_name='assigned')\n",
    "\n",
    "# this for loop goes through the assigned data and assigns a value to the entire column, usually null\n",
    "for idx, row in assigned.iterrows():\n",
    "    source_df[row['Column']] = row['Value']"
   ]
  },
  {
   "cell_type": "code",
   "execution_count": 22,
   "id": "ba4973d0",
   "metadata": {},
   "outputs": [],
   "source": [
    "# drop the teams out, which has a space before them for some reason\n",
    "source_df = source_df[source_df['player'] != ' Team']"
   ]
  },
  {
   "cell_type": "code",
   "execution_count": 23,
   "id": "222b280f",
   "metadata": {},
   "outputs": [],
   "source": [
    "# how to check to make sure everything aligns\n",
    "df_set = set(source_df.columns)  # create a set of the first dataframes columns\n",
    "target_df_set = set(target_df.columns)  # create a set of the target dataframe column"
   ]
  },
  {
   "cell_type": "code",
   "execution_count": 24,
   "id": "fc85cc79",
   "metadata": {},
   "outputs": [
    {
     "name": "stdout",
     "output_type": "stream",
     "text": [
      "the difference between the new columns and old columns are: \n",
      "set()\n",
      "the difference between the new columns and old columns are: \n",
      "set()\n",
      "The two datasets columns align:  True\n"
     ]
    }
   ],
   "source": [
    "print('the difference between the new columns and old columns are: ')\n",
    "print(df_set - target_df_set)\n",
    "print('the difference between the new columns and old columns are: ')\n",
    "print(target_df_set-df_set)\n",
    "\n",
    "print(\"The two datasets columns align: \", set(source_df.columns) == set(target_df.columns))"
   ]
  },
  {
   "cell_type": "code",
   "execution_count": 25,
   "id": "f1f25e49",
   "metadata": {},
   "outputs": [],
   "source": [
    "# save the output\n",
    "source_df = source_df[target_df.columns]\n",
    "source_df.to_csv('2022_college_stats.csv', index=False)"
   ]
  }
 ],
 "metadata": {
  "kernelspec": {
   "display_name": "Python 3 (ipykernel)",
   "language": "python",
   "name": "python3"
  },
  "language_info": {
   "codemirror_mode": {
    "name": "ipython",
    "version": 3
   },
   "file_extension": ".py",
   "mimetype": "text/x-python",
   "name": "python",
   "nbconvert_exporter": "python",
   "pygments_lexer": "ipython3",
   "version": "3.10.0"
  }
 },
 "nbformat": 4,
 "nbformat_minor": 5
}
